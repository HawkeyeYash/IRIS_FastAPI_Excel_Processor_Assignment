{
 "cells": [
  {
   "cell_type": "code",
   "execution_count": 20,
   "id": "36ff40d8",
   "metadata": {},
   "outputs": [],
   "source": [
    "from llama_parse import LlamaParse\n",
    "from llama_index.core import SimpleDirectoryReader, VectorStoreIndex, Settings\n",
    "from llama_index.embeddings.huggingface import HuggingFaceEmbedding\n",
    "from llama_index.llms.groq import Groq\n",
    "import json\n",
    "import re"
   ]
  },
  {
   "cell_type": "code",
   "execution_count": null,
   "id": "07c6c0e5",
   "metadata": {},
   "outputs": [
    {
     "name": "stdout",
     "output_type": "stream",
     "text": [
      "Started parsing the file under job_id ba46320c-312a-4340-859a-bac5b4e8c741\n"
     ]
    }
   ],
   "source": [
    "parser = LlamaParse(api_key=\"YOUR LLAMA CLOUD API KEY\", result_type=\"markdown\", spreadsheet_extract_sub_tables=True)\n",
    "documents = SimpleDirectoryReader(input_dir=\"./data\", file_extractor={\".xls\": parser}).load_data()\n",
    "Settings.embed_model = HuggingFaceEmbedding(model_name=\"BAAI/bge-small-en-v1.5\")\n",
    "index = VectorStoreIndex.from_documents(documents)"
   ]
  },
  {
   "cell_type": "code",
   "execution_count": null,
   "id": "734781be",
   "metadata": {},
   "outputs": [],
   "source": [
    "llm = Groq(\n",
    "    model=\"meta-llama/llama-4-scout-17b-16e-instruct\",\n",
    "    api_key=\"YOUR GROQ API KEY\",\n",
    "    temperature=0.1,\n",
    ")"
   ]
  },
  {
   "cell_type": "code",
   "execution_count": 23,
   "id": "3e93b90c",
   "metadata": {},
   "outputs": [],
   "source": [
    "query_engine = index.as_query_engine(llm=llm)"
   ]
  },
  {
   "cell_type": "code",
   "execution_count": null,
   "id": "cdea19c9",
   "metadata": {},
   "outputs": [],
   "source": [
    "def list_tables():\n",
    "    query = \"Just print all the tables names in an array format. Don't include any other text in your response.\"\n",
    "    response = query_engine.query(query)\n",
    "    return {\"tables\": eval(str(response))}\n",
    "\n",
    "def get_table_details(table_name: str):\n",
    "    query = f\"\"\"For the table named \"{table_name}\", just return the row names that appear in the first column. \n",
    "Return them as a JSON array under the key \"row_names\" only. Do not include any explanation.\"\"\"\n",
    "    response = query_engine.query(query)\n",
    "    return {\"table_name\": table_name, \"row_names\": eval(str(response))}\n",
    "\n",
    "\n",
    "def extract_json_from_response(text):\n",
    "    matches = re.findall(r'\\{.*?\\}', str(text), re.DOTALL)\n",
    "    for match in reversed(matches):  # Try from last to first\n",
    "        try:\n",
    "            return json.loads(match)\n",
    "        except json.JSONDecodeError:\n",
    "            continue\n",
    "    print(\"No valid JSON found in response.\")\n",
    "    print(text)\n",
    "    return {}\n",
    "\n",
    "def row_sum(table_name: str, row_name: str):\n",
    "    query = f\"\"\"In the table named \"{table_name}\", locate the row titled \"{row_name}\" and sum all the numeric values in that row. \n",
    "Only return JSON in the following format:\n",
    "{{\"table_name\": \"{table_name}\", \"row_name\": \"{row_name}\", \"sum\": [SUM_HERE]}}\"\"\"\n",
    "    response = query_engine.query(query)\n",
    "    return extract_json_from_response(response)\n"
   ]
  },
  {
   "cell_type": "code",
   "execution_count": 26,
   "id": "a113754b",
   "metadata": {},
   "outputs": [
    {
     "name": "stdout",
     "output_type": "stream",
     "text": [
      "=== List Tables ===\n",
      "{'tables': ['CapBudgWS', 'Investment Measures', 'BOOK VALUE & DEPRECIATION']}\n"
     ]
    }
   ],
   "source": [
    "print(\"=== List Tables ===\")\n",
    "print(list_tables())"
   ]
  },
  {
   "cell_type": "code",
   "execution_count": 27,
   "id": "7b917555",
   "metadata": {},
   "outputs": [
    {
     "name": "stdout",
     "output_type": "stream",
     "text": [
      "\n",
      "=== Table Details: Initial Investment ===\n",
      "{'table_name': 'Initial Investment', 'row_names': {'row_names': ['Investment', '- Tax Credit', 'Net Investment', '+ Working Cap', '+ Opp. Cost', '+ Other invest.', 'Initial Investment']}}\n"
     ]
    }
   ],
   "source": [
    "print(\"\\n=== Table Details: Initial Investment ===\")\n",
    "print(get_table_details(\"Initial Investment\"))"
   ]
  },
  {
   "cell_type": "code",
   "execution_count": 28,
   "id": "c300bd42",
   "metadata": {},
   "outputs": [
    {
     "name": "stdout",
     "output_type": "stream",
     "text": [
      "\n",
      "=== Row Sum: 'Tax Credit (if any )=' in 'Initial Investment' ===\n",
      "{'table_name': 'Initial Investment', 'row_name': 'Tax Credit (if any )=', 'sum': [10]}\n"
     ]
    }
   ],
   "source": [
    "print(\"\\n=== Row Sum: 'Tax Credit (if any )=' in 'Initial Investment' ===\")\n",
    "print(row_sum(\"Initial Investment\", \"Tax Credit (if any )=\"))"
   ]
  },
  {
   "cell_type": "code",
   "execution_count": null,
   "id": "ec7cf30c",
   "metadata": {},
   "outputs": [],
   "source": []
  }
 ],
 "metadata": {
  "kernelspec": {
   "display_name": "venv",
   "language": "python",
   "name": "python3"
  },
  "language_info": {
   "codemirror_mode": {
    "name": "ipython",
    "version": 3
   },
   "file_extension": ".py",
   "mimetype": "text/x-python",
   "name": "python",
   "nbconvert_exporter": "python",
   "pygments_lexer": "ipython3",
   "version": "3.12.10"
  }
 },
 "nbformat": 4,
 "nbformat_minor": 5
}
